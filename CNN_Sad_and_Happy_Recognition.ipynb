{
  "nbformat": 4,
  "nbformat_minor": 0,
  "metadata": {
    "colab": {
      "name": "CNN Sad and Happy Recognition.ipynb",
      "version": "0.3.2",
      "provenance": [],
      "collapsed_sections": []
    },
    "kernelspec": {
      "name": "python3",
      "display_name": "Python 3"
    }
  },
  "cells": [
    {
      "cell_type": "markdown",
      "metadata": {
        "id": "UncprnB0ymAE",
        "colab_type": "text"
      },
      "source": [
        "Below is code with a link to a happy or sad dataset which contains 80 images, 40 happy and 40 sad. \n",
        "With a convolutional neural network that trains to 100% accuracy on these images"
      ]
    },
    {
      "cell_type": "code",
      "metadata": {
        "id": "7Vti6p3PxmpS",
        "colab_type": "code",
        "colab": {}
      },
      "source": [
        "import os\n",
        "import zipfile\n",
        "from urllib.request import urlretrieve\n",
        "\n",
        "# Download the dataset from Google API\n",
        "\n",
        "urlretrieve(\"https://storage.googleapis.com/laurencemoroney-blog.appspot.com/happy-or-sad.zip\", \n",
        "            filename=\"/tmp/happy-or-sad.zip\")\n",
        "\n",
        "# Unzip the dataset to following directory\n",
        "\n",
        "zip_ref = zipfile.ZipFile(\"/tmp/happy-or-sad.zip\", 'r')\n",
        "zip_ref.extractall(\"/tmp/h-or-s\")\n",
        "zip_ref.close()\n"
      ],
      "execution_count": 0,
      "outputs": []
    },
    {
      "cell_type": "code",
      "metadata": {
        "id": "nJ7Avc8Yc11v",
        "colab_type": "code",
        "outputId": "c79c701c-ef95-4e83-9703-5641ebca4204",
        "colab": {
          "base_uri": "https://localhost:8080/",
          "height": 445
        }
      },
      "source": [
        "import tensorflow as tf\n",
        "from tensorflow.keras.optimizers import RMSprop\n",
        "from tensorflow.keras.preprocessing.image import ImageDataGenerator\n",
        "import os\n",
        "\n",
        "def train_happy_sad_model():\n",
        "\n",
        "  DESIRED_ACCURACY = 0.999\n",
        "  \n",
        "  \n",
        "    # Stop training when hitting %99.9 accuracy\n",
        "    \n",
        "  class myCallback(tf.keras.callbacks.Callback):\n",
        "    def on_epoch_end(self, epoch, logs={}):\n",
        "      if(logs.get('acc') > DESIRED_ACCURACY):\n",
        "        print('\\n\\nReached %99.9 accuracy so cancelling training!\\n\\n')\n",
        "        self.model.stop_training = True\n",
        "\n",
        "  callbacks = myCallback()\n",
        "    \n",
        "    \n",
        "    # This Code Block Define and Compile the Model\n",
        "    \n",
        "  model = tf.keras.models.Sequential([\n",
        "        tf.keras.layers.Conv2D(16, (3,3), activation=tf.nn.relu, input_shape=(150,150,3)),\n",
        "        tf.keras.layers.MaxPooling2D(2, 2),    \n",
        "        tf.keras.layers.Conv2D(32, (3,3), activation=tf.nn.relu),\n",
        "        tf.keras.layers.MaxPooling2D(2, 2),    \n",
        "        tf.keras.layers.Conv2D(64, (3,3), activation=tf.nn.relu),\n",
        "        tf.keras.layers.MaxPooling2D(2, 2),    \n",
        "        tf.keras.layers.Flatten(),\n",
        "        tf.keras.layers.Dense(512, activation=tf.nn.relu),\n",
        "        tf.keras.layers.Dense(1, activation=tf.nn.sigmoid)  \n",
        "    ]) \n",
        "\n",
        "  model.compile(loss='binary_crossentropy', optimizer = RMSprop(lr=0.001), metrics=['acc'])\n",
        "        \n",
        "    # This code block create an instance of an ImageDataGenerator called train_datagen \n",
        "    # And a train_generator by calling train_datagen.flow_from_directory\n",
        "\n",
        "  train_datagen = ImageDataGenerator(rescale = 1/255)\n",
        "\n",
        "  train_generator = train_datagen.flow_from_directory(\n",
        "        '/tmp/h-or-s', \n",
        "        target_size = (150, 150), \n",
        "        batch_size = 128,\n",
        "        class_mode = 'binary'\n",
        "    )\n",
        "\n",
        "    # This code block call model.fit_generator and train for\n",
        "  \n",
        "    # model fitting    \n",
        "    \n",
        "  history = model.fit_generator(\n",
        "      train_generator,\n",
        "      steps_per_epoch=8,  \n",
        "      epochs=10,\n",
        "      verbose=1,\n",
        "      callbacks = [callbacks])\n",
        "    \n",
        "  return history.history['acc'][-1]\n",
        "  \n",
        "train_happy_sad_model()"
      ],
      "execution_count": 19,
      "outputs": [
        {
          "output_type": "stream",
          "text": [
            "WARNING: Logging before flag parsing goes to stderr.\n",
            "W0821 20:24:38.659364 139804613187456 deprecation.py:506] From /usr/local/lib/python3.6/dist-packages/tensorflow/python/ops/init_ops.py:1251: calling VarianceScaling.__init__ (from tensorflow.python.ops.init_ops) with dtype is deprecated and will be removed in a future version.\n",
            "Instructions for updating:\n",
            "Call initializer instance with the dtype argument instead of passing it to the constructor\n",
            "W0821 20:24:38.953551 139804613187456 deprecation.py:323] From /usr/local/lib/python3.6/dist-packages/tensorflow/python/ops/nn_impl.py:180: add_dispatch_support.<locals>.wrapper (from tensorflow.python.ops.array_ops) is deprecated and will be removed in a future version.\n",
            "Instructions for updating:\n",
            "Use tf.where in 2.0, which has the same broadcast rule as np.where\n"
          ],
          "name": "stderr"
        },
        {
          "output_type": "stream",
          "text": [
            "Found 80 images belonging to 2 classes.\n",
            "Epoch 1/10\n",
            "8/8 [==============================] - 15s 2s/step - loss: 1.7645 - acc: 0.5000\n",
            "Epoch 2/10\n",
            "8/8 [==============================] - 13s 2s/step - loss: 0.4678 - acc: 0.7109\n",
            "Epoch 3/10\n",
            "8/8 [==============================] - 13s 2s/step - loss: 0.2139 - acc: 0.9297\n",
            "Epoch 4/10\n",
            "8/8 [==============================] - 13s 2s/step - loss: 0.0685 - acc: 0.9766\n",
            "Epoch 5/10\n",
            "7/8 [=========================>....] - ETA: 1s - loss: 0.0295 - acc: 1.0000\n",
            "\n",
            "Reached %99.9 accuracy so cancelling training!\n",
            "\n",
            "\n",
            "8/8 [==============================] - 13s 2s/step - loss: 0.0283 - acc: 1.0000\n"
          ],
          "name": "stdout"
        },
        {
          "output_type": "execute_result",
          "data": {
            "text/plain": [
              "1.0"
            ]
          },
          "metadata": {
            "tags": []
          },
          "execution_count": 19
        }
      ]
    }
  ]
}